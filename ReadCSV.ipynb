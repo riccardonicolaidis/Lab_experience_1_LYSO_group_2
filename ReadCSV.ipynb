{
 "cells": [
  {
   "cell_type": "code",
   "execution_count": 8,
   "id": "0e8a3581",
   "metadata": {},
   "outputs": [],
   "source": [
    "import numpy as np\n",
    "import matplotlib.pyplot as plt\n",
    "from numpy import genfromtxt"
   ]
  },
  {
   "cell_type": "code",
   "execution_count": 40,
   "id": "dc5ae18f",
   "metadata": {
    "scrolled": true
   },
   "outputs": [
    {
     "name": "stdout",
     "output_type": "stream",
     "text": [
      "0.1492291666666667\n"
     ]
    },
    {
     "data": {
      "image/png": "[encoded data removed]",
      "text/plain": [
       "<Figure size 432x288 with 1 Axes>"
      ]
     },
     "metadata": {
      "needs_background": "light"
     },
     "output_type": "display_data"
    }
   ],
   "source": [
    "data = genfromtxt('test.csv')\n",
    "sigma = 5*10**-10\n",
    "p0=-2.163*10**-10\n",
    "p1=4.8*10**-12\n",
    "sigma = (sigma-p0)/p1/1000\n",
    "print(sigma)\n",
    "noise = np.random.normal(0,1*sigma,len(data))\n",
    "#print(data)\n",
    "plt.hist(abs(data+ noise), 1000)\n",
    "plt.xlabel('Energies [MeV]')\n",
    "plt.yscale(\"log\")\n",
    "#plt.xlim(1,1.7)\n",
    "plt.show()"
   ]
  }
 ],
 "metadata": {
  "kernelspec": {
   "display_name": "Python 3 (ipykernel)",
   "language": "python",
   "name": "python3"
  },
  "language_info": {
   "codemirror_mode": {
    "name": "ipython",
    "version": 3
   },
   "file_extension": ".py",
   "mimetype": "text/x-python",
   "name": "python",
   "nbconvert_exporter": "python",
   "pygments_lexer": "ipython3",
   "version": "3.8.10"
  }
 },
 "nbformat": 4,
 "nbformat_minor": 5
}
